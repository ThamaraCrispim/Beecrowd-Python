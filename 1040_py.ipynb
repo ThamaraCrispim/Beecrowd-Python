{
  "nbformat": 4,
  "nbformat_minor": 0,
  "metadata": {
    "colab": {
      "provenance": [],
      "authorship_tag": "ABX9TyNWjBkNoJ6UyT5iu0pfuuVi",
      "include_colab_link": true
    },
    "kernelspec": {
      "name": "python3",
      "display_name": "Python 3"
    },
    "language_info": {
      "name": "python"
    }
  },
  "cells": [
    {
      "cell_type": "markdown",
      "metadata": {
        "id": "view-in-github",
        "colab_type": "text"
      },
      "source": [
        "<a href=\"https://colab.research.google.com/github/ThamaraCrispim/Beecrowd-Python/blob/main/1040_py.ipynb\" target=\"_parent\"><img src=\"https://colab.research.google.com/assets/colab-badge.svg\" alt=\"Open In Colab\"/></a>"
      ]
    },
    {
      "cell_type": "code",
      "execution_count": 5,
      "metadata": {
        "colab": {
          "base_uri": "https://localhost:8080/"
        },
        "id": "f6JcglSD0tEQ",
        "outputId": "20112ec0-771f-425a-ecde-8e85f6b9623c"
      },
      "outputs": [
        {
          "output_type": "stream",
          "name": "stdout",
          "text": [
            "Media: 5.4\n",
            "Aluno em exame.\n",
            "Nota do exame: 6.4\n",
            "Aluno aprovado.\n",
            "Media final: 5.9\n"
          ]
        }
      ],
      "source": [
        "# Entrada fixa (simula o input)\n",
        "entrada = \"2.0 4.0 7.5 8.0\"\n",
        "n1, n2, n3, n4 = map(float, entrada.split())\n",
        "\n",
        "# Calcula a média ponderada\n",
        "media = (n1 * 2 + n2 * 3 + n3 * 4 + n4 * 1) / 10\n",
        "print(f\"Media: {media:.1f}\")\n",
        "\n",
        "# Verifica a situação do aluno\n",
        "if media >= 7.0:\n",
        "    print(\"Aluno aprovado.\")\n",
        "elif media < 5.0:\n",
        "    print(\"Aluno reprovado.\")\n",
        "else:\n",
        "    print(\"Aluno em exame.\")\n",
        "\n",
        "    # Nota do exame (simulada)\n",
        "    nota_exame = 6.4\n",
        "    print(f\"Nota do exame: {nota_exame:.1f}\")\n",
        "\n",
        "    media_final = (media + nota_exame) / 2\n",
        "    if media_final >= 5.0:\n",
        "        print(\"Aluno aprovado.\")\n",
        "    else:\n",
        "        print(\"Aluno reprovado.\")\n",
        "    print(f\"Media final: {media_final:.1f}\")\n",
        "\n",
        "\n",
        "\n"
      ]
    }
  ]
}