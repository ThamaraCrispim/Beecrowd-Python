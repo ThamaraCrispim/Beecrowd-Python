{
  "nbformat": 4,
  "nbformat_minor": 0,
  "metadata": {
    "colab": {
      "provenance": [],
      "authorship_tag": "ABX9TyOJGs7Yy23o58kQ9CB3CSy/",
      "include_colab_link": true
    },
    "kernelspec": {
      "name": "python3",
      "display_name": "Python 3"
    },
    "language_info": {
      "name": "python"
    }
  },
  "cells": [
    {
      "cell_type": "markdown",
      "metadata": {
        "id": "view-in-github",
        "colab_type": "text"
      },
      "source": [
        "<a href=\"https://colab.research.google.com/github/ThamaraCrispim/Beecrowd-Python/blob/main/1041_py.ipynb\" target=\"_parent\"><img src=\"https://colab.research.google.com/assets/colab-badge.svg\" alt=\"Open In Colab\"/></a>"
      ]
    },
    {
      "cell_type": "code",
      "source": [
        "# Simulação de entrada para testes\n",
        "entrada = \"4.5 -2.2\"  # Substitua por \"0.0 0.0\", \"0.1 0.1\", etc., para testar outros casos\n",
        "x, y = map(float, entrada.split())\n",
        "\n",
        "if x == 0 and y == 0:\n",
        "    print(\"Origem\")\n",
        "elif x == 0:\n",
        "    print(\"Eixo Y\")\n",
        "elif y == 0:\n",
        "    print(\"Eixo X\")\n",
        "elif x > 0 and y > 0:\n",
        "    print(\"Q1\")\n",
        "elif x < 0 and y > 0:\n",
        "    print(\"Q2\")\n",
        "elif x < 0 and y < 0:\n",
        "    print(\"Q3\")\n",
        "elif x > 0 and y < 0:\n",
        "    print(\"Q4\")\n"
      ],
      "metadata": {
        "colab": {
          "base_uri": "https://localhost:8080/"
        },
        "id": "Fg_wVaChn1Ld",
        "outputId": "5f907349-325c-433c-a081-612b5e8dc2b3"
      },
      "execution_count": 6,
      "outputs": [
        {
          "output_type": "stream",
          "name": "stdout",
          "text": [
            "Q4\n"
          ]
        }
      ]
    }
  ]
}