{
  "nbformat": 4,
  "nbformat_minor": 0,
  "metadata": {
    "colab": {
      "provenance": [],
      "authorship_tag": "ABX9TyNT8VcXxkDVHuQtIbmewOOI",
      "include_colab_link": true
    },
    "kernelspec": {
      "name": "python3",
      "display_name": "Python 3"
    },
    "language_info": {
      "name": "python"
    }
  },
  "cells": [
    {
      "cell_type": "markdown",
      "metadata": {
        "id": "view-in-github",
        "colab_type": "text"
      },
      "source": [
        "<a href=\"https://colab.research.google.com/github/ThamaraCrispim/Beecrowd-Python/blob/main/1038_py.ipynb\" target=\"_parent\"><img src=\"https://colab.research.google.com/assets/colab-badge.svg\" alt=\"Open In Colab\"/></a>"
      ]
    },
    {
      "cell_type": "code",
      "execution_count": null,
      "metadata": {
        "colab": {
          "base_uri": "https://localhost:8080/",
          "height": 110
        },
        "id": "f6JcglSD0tEQ",
        "outputId": "5fb356cb-7915-4481-f2ca-b8d9c7dee201"
      },
      "outputs": [
        {
          "output_type": "error",
          "ename": "SyntaxError",
          "evalue": "cannot delete function call (<ipython-input-1-10a990198f6d>, line 2)",
          "traceback": [
            "\u001b[0;36m  File \u001b[0;32m\"<ipython-input-1-10a990198f6d>\"\u001b[0;36m, line \u001b[0;32m2\u001b[0m\n\u001b[0;31m    del _init_(self)\u001b[0m\n\u001b[0m        ^\u001b[0m\n\u001b[0;31mSyntaxError\u001b[0m\u001b[0;31m:\u001b[0m cannot delete function call\n"
          ]
        }
      ],
      "source": [
        "# Lê os dois inteiros da entrada\n",
        "codigo, quantidade = map(int, input().split())\n",
        "\n",
        "# Dicionário que mapeia o código ao preço do item\n",
        "precos = {\n",
        "    1: 4.00,\n",
        "    2: 4.50,\n",
        "    3: 5.00,\n",
        "    4: 2.00,\n",
        "    5: 1.50\n",
        "}\n",
        "\n",
        "# Calcula o valor total\n",
        "total = precos[codigo] * quantidade\n",
        "\n",
        "# Imprime o resultado com duas casas decimais\n",
        "print(f\"Total: R$ {total:.2f}\")\n"
      ]
    }
  ]
}