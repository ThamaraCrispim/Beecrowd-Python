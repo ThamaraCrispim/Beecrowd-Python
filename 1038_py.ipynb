{
  "nbformat": 4,
  "nbformat_minor": 0,
  "metadata": {
    "colab": {
      "provenance": [],
      "authorship_tag": "ABX9TyP56fcgIV1Voom2InSuVQ/H",
      "include_colab_link": true
    },
    "kernelspec": {
      "name": "python3",
      "display_name": "Python 3"
    },
    "language_info": {
      "name": "python"
    }
  },
  "cells": [
    {
      "cell_type": "markdown",
      "metadata": {
        "id": "view-in-github",
        "colab_type": "text"
      },
      "source": [
        "<a href=\"https://colab.research.google.com/github/ThamaraCrispim/Beecrowd-Python/blob/main/1038_py.ipynb\" target=\"_parent\"><img src=\"https://colab.research.google.com/assets/colab-badge.svg\" alt=\"Open In Colab\"/></a>"
      ]
    },
    {
      "cell_type": "code",
      "execution_count": 2,
      "metadata": {
        "colab": {
          "base_uri": "https://localhost:8080/"
        },
        "id": "f6JcglSD0tEQ",
        "outputId": "74bb9ddb-e4f0-4c07-e41a-c479e52a2ef0"
      },
      "outputs": [
        {
          "output_type": "stream",
          "name": "stdout",
          "text": [
            "Digite o código e a quantidade separados por espaço: 2 1\n",
            "Total: R$ 4.50\n"
          ]
        }
      ],
      "source": [
        "try:\n",
        "    codigo, quantidade = map(int, input(\"Digite o código e a quantidade separados por espaço: \").split())\n",
        "\n",
        "    precos = {\n",
        "        1: 4.00,\n",
        "        2: 4.50,\n",
        "        3: 5.00,\n",
        "        4: 2.00,\n",
        "        5: 1.50\n",
        "    }\n",
        "\n",
        "    total = precos[codigo] * quantidade\n",
        "    print(f\"Total: R$ {total:.2f}\")\n",
        "\n",
        "except ValueError:\n",
        "    print(\"Erro: você deve digitar dois números inteiros separados por espaço.\")\n",
        "except KeyError:\n",
        "    print(\"Erro: código de item inválido.\")\n",
        "\n"
      ]
    }
  ]
}